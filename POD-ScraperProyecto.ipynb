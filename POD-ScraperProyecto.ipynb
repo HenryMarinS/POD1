{
 "cells":[
  {
   "cell_type":"markdown",
   "source":[
    "# Scraper para POD 1\n",
    "\n",
    "Este documento contiene el scraper para obtener los sueldos medios por país.\n",
    "\n",
    "Hemos obtenido los datos de Numbeo:\n",
    "\n",
    "[https:\/\/www.numbeo.com\/cost-of-living\/country_price_rankings?itemId=105](https:\/\/www.numbeo.com\/cost-of-living\/country_price_rankings?itemId=105)\n"
   ],
   "attachments":{
    
   },
   "metadata":{
    "datalore":{
     "node_id":"LruYWL0FVRWcUa8j1qz6F6",
     "type":"MD",
     "hide_input_from_viewers":false,
     "hide_output_from_viewers":false
    }
   }
  },
  {
   "cell_type":"code",
   "source":[
    "from IPython import display\n",
    "\n",
    "display.Image(filename=\"\/data\/notebook_files\/Numbeo1.png\")"
   ],
   "execution_count":2,
   "outputs":[
    {
     "ename":"FileNotFoundError",
     "evalue":"FileNotFoundError: [Errno 2] No such file or directory: '\/data\/notebook_files\/Numbeo1.png'",
     "traceback":[
      "\u001b[0;31m---------------------------------------------------------------------------",
      "Traceback (most recent call last)",
      "    at line 3 in <module>",
      "    at line 1231 in __init__(self, data, url, filename, format, embed, width, height, retina, unconfined, metadata)",
      "    at line 637 in __init__(self, data, url, filename, metadata)",
      "    at line 1263 in reload(self)",
      "    at line 662 in reload(self)",
      "FileNotFoundError: [Errno 2] No such file or directory: '\/data\/notebook_files\/Numbeo1.png'"
     ],
     "output_type":"error"
    }
   ],
   "metadata":{
    "datalore":{
     "node_id":"23YYveahDASBsycdcU6aYl",
     "type":"CODE",
     "hide_input_from_viewers":false,
     "hide_output_from_viewers":false
    }
   }
  },
  {
   "cell_type":"markdown",
   "source":[
    "### Archivos del scraper"
   ],
   "attachments":{
    
   },
   "metadata":{
    "datalore":{
     "node_id":"nbbn7TfD43JZ6zdI30LomS",
     "type":"MD",
     "hide_input_from_viewers":false,
     "hide_output_from_viewers":false
    }
   }
  },
  {
   "cell_type":"markdown",
   "source":[
    "A continuación mostramos el código fuente del scraper:"
   ],
   "attachments":{
    
   },
   "metadata":{
    "datalore":{
     "node_id":"MrrP63zsaDGUHEU8KTiL5S",
     "type":"MD",
     "hide_input_from_viewers":false,
     "hide_output_from_viewers":false
    }
   }
  },
  {
   "cell_type":"code",
   "source":[
    "!cat \/data\/notebook_files\/sueldos\/sueldos\/items.py"
   ],
   "execution_count":1,
   "outputs":[
    {
     "name":"stdout",
     "text":[
      "# Define here the models for your scraped items\r\n",
      "#\r\n",
      "# See documentation in:\r\n",
      "# https:\/\/docs.scrapy.org\/en\/latest\/topics\/items.html\r\n",
      "\r\n",
      "from scrapy import Item, Field\r\n",
      "\r\n",
      "class ScrapyItemSueldos(Item):\r\n",
      "    sueldos = Field()\r\n"
     ],
     "output_type":"stream"
    }
   ],
   "metadata":{
    "datalore":{
     "node_id":"xx2DA2xMFhJt88q7uKBgG5",
     "type":"CODE",
     "hide_input_from_viewers":false,
     "hide_output_from_viewers":false
    }
   }
  },
  {
   "cell_type":"code",
   "source":[
    "!cat \/data\/notebook_files\/sueldos\/sueldos\/spiders\/SpiderSueldos.py"
   ],
   "execution_count":4,
   "outputs":[
    {
     "name":"stdout",
     "text":[
      "import scrapy\r\n",
      "from ..items import *\r\n",
      "\r\n",
      "class SpiderSueldos(scrapy.Spider):\r\n",
      "    name = 'SpiderSueldos'\r\n",
      "    allowed_domains = ['http:\/\/www.numbeo.com\/']\r\n",
      "    start_urls = ['https:\/\/www.numbeo.com\/cost-of-living\/country_price_rankings?itemId=105']\r\n",
      "\r\n",
      "    def parse(self, response):\r\n",
      "        item = ScrapyItemSueldos()\r\n",
      "        item['sueldos'] = []\r\n",
      "        for fila in response.xpath('\/\/tr[@class=\"tr_standard\"]'):\r\n",
      "            c = dict()\r\n",
      "            c['pais'] = fila.xpath('.\/td[2]\/text()').extract_first()\r\n",
      "            c['sueldo'] = fila.xpath('.\/td[4]\/text()').extract_first()\r\n",
      "            item['sueldos'].append(c)\r\n",
      "        return item\r\n"
     ],
     "output_type":"stream"
    }
   ],
   "metadata":{
    "datalore":{
     "node_id":"8geWLd6d5E3UltQxAUydeT",
     "type":"CODE",
     "hide_input_from_viewers":false,
     "hide_output_from_viewers":false
    }
   }
  },
  {
   "cell_type":"markdown",
   "source":[
    "Los datos están organizados en una tabla, en la que cada fila tiene clase `tr_standard`.\n",
    "\n",
    "Dentro de cada fila, los datos que nos interesan están en segunda posición (nombre del país), y cuarta posición (sueldo)."
   ],
   "attachments":{
    
   },
   "metadata":{
    "datalore":{
     "node_id":"93QwR5Y6YWSnrHfURDRReY",
     "type":"MD",
     "hide_input_from_viewers":false,
     "hide_output_from_viewers":false
    }
   }
  },
  {
   "cell_type":"markdown",
   "source":[
    "### Resultado\n",
    "\n",
    "Tras ejecutar el scraper obtenemos una lista con los países y los sueldos medios respectivos. "
   ],
   "attachments":{
    
   },
   "metadata":{
    "datalore":{
     "node_id":"8qjnsDi6Os4pErQGG00IWf",
     "type":"MD",
     "hide_input_from_viewers":false,
     "hide_output_from_viewers":false
    }
   }
  },
  {
   "cell_type":"code",
   "source":[
    "!cat \/data\/notebook_files\/sueldos\/sueldos\/spiders\/sueldos.json"
   ],
   "execution_count":1,
   "outputs":[
    {
     "name":"stdout",
     "text":[
      "[\r\n",
      "{\"sueldos\": [{\"pais\": \"\\nSwitzerland\", \"sueldo\": \"\\n6,221.54\\u00a0$\"}, {\"pais\": \"\\nLuxembourg\", \"sueldo\": \"\\n4,224.22\\u00a0$\"}, {\"pais\": \"\\nSingapore\", \"sueldo\": \"\\n4,004.48\\u00a0$\"}, {\"pais\": \"\\nAustralia\", \"sueldo\": \"\\n3,639.57\\u00a0$\"}, {\"pais\": \"\\nUnited States\", \"sueldo\": \"\\n3,592.23\\u00a0$\"}, {\"pais\": \"\\nDenmark\", \"sueldo\": \"\\n3,494.11\\u00a0$\"}, {\"pais\": \"\\nNorway\", \"sueldo\": \"\\n3,364.91\\u00a0$\"}, {\"pais\": \"\\nIceland\", \"sueldo\": \"\\n3,155.89\\u00a0$\"}, {\"pais\": \"\\nHong Kong\", \"sueldo\": \"\\n3,133.97\\u00a0$\"}, {\"pais\": \"\\nQatar\", \"sueldo\": \"\\n3,113.51\\u00a0$\"}, {\"pais\": \"\\nNetherlands\", \"sueldo\": \"\\n2,920.58\\u00a0$\"}, {\"pais\": \"\\nGermany\", \"sueldo\": \"\\n2,889.17\\u00a0$\"}, {\"pais\": \"\\nIreland\", \"sueldo\": \"\\n2,870.03\\u00a0$\"}, {\"pais\": \"\\nSweden\", \"sueldo\": \"\\n2,862.29\\u00a0$\"}, {\"pais\": \"\\nNew Zealand\", \"sueldo\": \"\\n2,821.94\\u00a0$\"}, {\"pais\": \"\\nCanada\", \"sueldo\": \"\\n2,818.27\\u00a0$\"}, {\"pais\": \"\\nUnited Arab Emirates\", \"sueldo\": \"\\n2,811.49\\u00a0$\"}, {\"pais\": \"\\nIsrael\", \"sueldo\": \"\\n2,741.42\\u00a0$\"}, {\"pais\": \"\\nJapan\", \"sueldo\": \"\\n2,739.95\\u00a0$\"}, {\"pais\": \"\\nFinland\", \"sueldo\": \"\\n2,669.05\\u00a0$\"}, {\"pais\": \"\\nUnited Kingdom\", \"sueldo\": \"\\n2,646.71\\u00a0$\"}, {\"pais\": \"\\nFrance\", \"sueldo\": \"\\n2,584.78\\u00a0$\"}, {\"pais\": \"\\nBelgium\", \"sueldo\": \"\\n2,350.64\\u00a0$\"}, {\"pais\": \"\\nAustria\", \"sueldo\": \"\\n2,253.62\\u00a0$\"}, {\"pais\": \"\\nSouth Korea\", \"sueldo\": \"\\n2,231.81\\u00a0$\"}, {\"pais\": \"\\nKuwait\", \"sueldo\": \"\\n1,864.19\\u00a0$\"}, {\"pais\": \"\\nPuerto Rico\", \"sueldo\": \"\\n1,836.93\\u00a0$\"}, {\"pais\": \"\\nSaudi Arabia\", \"sueldo\": \"\\n1,719.90\\u00a0$\"}, {\"pais\": \"\\nOman\", \"sueldo\": \"\\n1,670.00\\u00a0$\"}, {\"pais\": \"\\nItaly\", \"sueldo\": \"\\n1,626.49\\u00a0$\"}, {\"pais\": \"\\nSpain\", \"sueldo\": \"\\n1,538.47\\u00a0$\"}, {\"pais\": \"\\nBahrain\", \"sueldo\": \"\\n1,535.95\\u00a0$\"}, {\"pais\": \"\\nTaiwan\", \"sueldo\": \"\\n1,437.95\\u00a0$\"}, {\"pais\": \"\\nCyprus\", \"sueldo\": \"\\n1,369.27\\u00a0$\"}, {\"pais\": \"\\nSouth Africa\", \"sueldo\": \"\\n1,369.00\\u00a0$\"}, {\"pais\": \"\\nEstonia\", \"sueldo\": \"\\n1,319.03\\u00a0$\"}, {\"pais\": \"\\nMalta\", \"sueldo\": \"\\n1,281.04\\u00a0$\"}, {\"pais\": \"\\nSlovenia\", \"sueldo\": \"\\n1,275.01\\u00a0$\"}, {\"pais\": \"\\nCzech Republic\", \"sueldo\": \"\\n1,245.97\\u00a0$\"}, {\"pais\": \"\\nChina\", \"sueldo\": \"\\n1,061.74\\u00a0$\"}, {\"pais\": \"\\nLithuania\", \"sueldo\": \"\\n1,059.16\\u00a0$\"}, {\"pais\": \"\\nLebanon\", \"sueldo\": \"\\n1,025.19\\u00a0$\"}, {\"pais\": \"\\nSlovakia\", \"sueldo\": \"\\n998.70\\u00a0$\"}, {\"pais\": \"\\nPortugal\", \"sueldo\": \"\\n936.55\\u00a0$\"}, {\"pais\": \"\\nLatvia\", \"sueldo\": \"\\n915.38\\u00a0$\"}, {\"pais\": \"\\nPoland\", \"sueldo\": \"\\n855.22\\u00a0$\"}, {\"pais\": \"\\nCroatia\", \"sueldo\": \"\\n849.01\\u00a0$\"}, {\"pais\": \"\\nPalestine\", \"sueldo\": \"\\n844.87\\u00a0$\"}, {\"pais\": \"\\nTrinidad And Tobago\", \"sueldo\": \"\\n836.65\\u00a0$\"}, {\"pais\": \"\\nGreece\", \"sueldo\": \"\\n824.45\\u00a0$\"}, {\"pais\": \"\\nMalaysia\", \"sueldo\": \"\\n800.35\\u00a0$\"}, {\"pais\": \"\\nHungary\", \"sueldo\": \"\\n793.92\\u00a0$\"}, {\"pais\": \"\\nCosta Rica\", \"sueldo\": \"\\n739.63\\u00a0$\"}, {\"pais\": \"\\nPanama\", \"sueldo\": \"\\n731.99\\u00a0$\"}, {\"pais\": \"\\nRomania\", \"sueldo\": \"\\n654.25\\u00a0$\"}, {\"pais\": \"\\nBulgaria\", \"sueldo\": \"\\n644.37\\u00a0$\"}, {\"pais\": \"\\nLibya\", \"sueldo\": \"\\n635.79\\u00a0$\"}, {\"pais\": \"\\nJamaica\", \"sueldo\": \"\\n621.66\\u00a0$\"}, {\"pais\": \"\\nUruguay\", \"sueldo\": \"\\n619.03\\u00a0$\"}, {\"pais\": \"\\nBosnia And Herzegovina\", \"sueldo\": \"\\n599.96\\u00a0$\"}, {\"pais\": \"\\nChile\", \"sueldo\": \"\\n585.72\\u00a0$\"}, {\"pais\": \"\\nRussia\", \"sueldo\": \"\\n572.04\\u00a0$\"}, {\"pais\": \"\\nJordan\", \"sueldo\": \"\\n571.44\\u00a0$\"}, {\"pais\": \"\\nThailand\", \"sueldo\": \"\\n569.69\\u00a0$\"}, {\"pais\": \"\\nIraq\", \"sueldo\": \"\\n564.84\\u00a0$\"}, {\"pais\": \"\\nMontenegro\", \"sueldo\": \"\\n551.13\\u00a0$\"}, {\"pais\": \"\\nMexico\", \"sueldo\": \"\\n525.92\\u00a0$\"}, {\"pais\": \"\\nSerbia\", \"sueldo\": \"\\n523.69\\u00a0$\"}, {\"pais\": \"\\nHonduras\", \"sueldo\": \"\\n515.58\\u00a0$\"}, {\"pais\": \"\\nBolivia\", \"sueldo\": \"\\n499.50\\u00a0$\"}, {\"pais\": \"\\nMauritius\", \"sueldo\": \"\\n498.41\\u00a0$\"}, {\"pais\": \"\\nGuatemala\", \"sueldo\": \"\\n475.55\\u00a0$\"}, {\"pais\": \"\\nUkraine\", \"sueldo\": \"\\n473.17\\u00a0$\"}, {\"pais\": \"\\nKosovo (Disputed Territory)\", \"sueldo\": \"\\n469.22\\u00a0$\"}, {\"pais\": \"\\nEcuador\", \"sueldo\": \"\\n463.33\\u00a0$\"}, {\"pais\": \"\\nVietnam\", \"sueldo\": \"\\n453.08\\u00a0$\"}, {\"pais\": \"\\nIndia\", \"sueldo\": \"\\n451.41\\u00a0$\"}, {\"pais\": \"\\nMorocco\", \"sueldo\": \"\\n444.87\\u00a0$\"}, {\"pais\": \"\\nArgentina\", \"sueldo\": \"\\n408.51\\u00a0$\"}, {\"pais\": \"\\nKenya\", \"sueldo\": \"\\n407.29\\u00a0$\"}, {\"pais\": \"\\nArmenia\", \"sueldo\": \"\\n402.68\\u00a0$\"}, {\"pais\": \"\\nNorth Macedonia\", \"sueldo\": \"\\n398.79\\u00a0$\"}, {\"pais\": \"\\nKazakhstan\", \"sueldo\": \"\\n380.37\\u00a0$\"}, {\"pais\": \"\\nEl Salvador\", \"sueldo\": \"\\n375.79\\u00a0$\"}, {\"pais\": \"\\nMoldova\", \"sueldo\": \"\\n374.00\\u00a0$\"}, {\"pais\": \"\\nPeru\", \"sueldo\": \"\\n372.35\\u00a0$\"}, {\"pais\": \"\\nBelarus\", \"sueldo\": \"\\n366.17\\u00a0$\"}, {\"pais\": \"\\nBrazil\", \"sueldo\": \"\\n348.76\\u00a0$\"}, {\"pais\": \"\\nAlbania\", \"sueldo\": \"\\n330.86\\u00a0$\"}, {\"pais\": \"\\nDominican Republic\", \"sueldo\": \"\\n330.26\\u00a0$\"}, {\"pais\": \"\\nAzerbaijan\", \"sueldo\": \"\\n316.19\\u00a0$\"}, {\"pais\": \"\\nTurkey\", \"sueldo\": \"\\n315.63\\u00a0$\"}, {\"pais\": \"\\nZimbabwe\", \"sueldo\": \"\\n311.54\\u00a0$\"}, {\"pais\": \"\\nColombia\", \"sueldo\": \"\\n310.71\\u00a0$\"}, {\"pais\": \"\\nIran\", \"sueldo\": \"\\n306.14\\u00a0$\"}, {\"pais\": \"\\nIndonesia\", \"sueldo\": \"\\n303.81\\u00a0$\"}, {\"pais\": \"\\nPhilippines\", \"sueldo\": \"\\n300.64\\u00a0$\"}, {\"pais\": \"\\nGhana\", \"sueldo\": \"\\n293.11\\u00a0$\"}, {\"pais\": \"\\nBangladesh\", \"sueldo\": \"\\n289.65\\u00a0$\"}, {\"pais\": \"\\nTunisia\", \"sueldo\": \"\\n286.88\\u00a0$\"}, {\"pais\": \"\\nUzbekistan\", \"sueldo\": \"\\n247.91\\u00a0$\"}, {\"pais\": \"\\nVenezuela\", \"sueldo\": \"\\n244.62\\u00a0$\"}, {\"pais\": \"\\nAlgeria\", \"sueldo\": \"\\n241.89\\u00a0$\"}, {\"pais\": \"\\nSri Lanka\", \"sueldo\": \"\\n237.09\\u00a0$\"}, {\"pais\": \"\\nEgypt\", \"sueldo\": \"\\n229.83\\u00a0$\"}, {\"pais\": \"\\nNepal\", \"sueldo\": \"\\n221.89\\u00a0$\"}, {\"pais\": \"\\nPakistan\", \"sueldo\": \"\\n200.50\\u00a0$\"}, {\"pais\": \"\\nEthiopia\", \"sueldo\": \"\\n199.51\\u00a0$\"}, {\"pais\": \"\\nNigeria\", \"sueldo\": \"\\n182.70\\u00a0$\"}, {\"pais\": \"\\nSyria\", \"sueldo\": \"\\n73.12\\u00a0$\"}]}\r\n",
      "]"
     ],
     "output_type":"stream"
    }
   ],
   "metadata":{
    "datalore":{
     "node_id":"ms1qYpu7anL19DwvrYWTvM",
     "type":"CODE",
     "hide_input_from_viewers":false,
     "hide_output_from_viewers":false
    }
   }
  },
  {
   "cell_type":"markdown",
   "source":[
    "\n",
    "Debemos realizar algunas correcciones antes de importar el archivo a un DataFrame:\n",
    "\n",
    "* Eliminar los caracteres innecesarios: las newlines y los símbolos de dólar\n",
    "* Eliminar los corchetes\n",
    "* Indicar a Pandas la estructura del documento con `json_normalize` (solución obtenida de [StackOverflow](https:\/\/stackoverflow.com\/questions\/40588852\/pandas-read-nested-json\/40589031#40589031))\n",
    "  "
   ],
   "attachments":{
    
   },
   "metadata":{
    "datalore":{
     "node_id":"mw3D6CRAwEkO5dotkP1LjC",
     "type":"MD",
     "hide_input_from_viewers":false,
     "hide_output_from_viewers":false
    }
   }
  },
  {
   "cell_type":"code",
   "source":[
    "import json\n",
    "import pandas as pd\n",
    "\n",
    "with open(\"\/data\/notebook_files\/sueldos\/sueldos\/spiders\/sueldos_corregido.json\") as data_file:    \n",
    "    data = json.load(data_file)  \n",
    "\n",
    "df = pd.json_normalize(data, 'sueldos', ['pais', 'sueldo'], \n",
    "                    record_prefix='datos_', errors='ignore')\n",
    "\n",
    "df_limpia = df[['datos_pais', 'datos_sueldo']]\n",
    "\n",
    "print(df_limpia)\n",
    "\n",
    "df_limpia.to_csv(\"\/data\/notebook_files\/resultados.csv\")"
   ],
   "execution_count":53,
   "outputs":[
    {
     "name":"stdout",
     "text":[
      "        datos_pais datos_sueldo\n",
      "0      Switzerland     6,221.54\n",
      "1       Luxembourg     4,224.22\n",
      "2        Singapore     4,004.48\n",
      "3        Australia     3,639.57\n",
      "4    United States     3,592.23\n",
      "..             ...          ...\n",
      "105          Nepal       221.89\n",
      "106       Pakistan       200.50\n",
      "107       Ethiopia       199.51\n",
      "108        Nigeria       182.70\n",
      "109          Syria        73.12\n",
      "\n",
      "[110 rows x 2 columns]\n"
     ],
     "output_type":"stream"
    }
   ],
   "metadata":{
    "datalore":{
     "node_id":"sd7FRVNvY7nhvp9tHHry2g",
     "type":"CODE",
     "hide_input_from_viewers":false,
     "hide_output_from_viewers":false
    }
   }
  },
  {
   "cell_type":"markdown",
   "source":[
    "Por último, tendremos que convertir los sueldos a números cuando queramos importar la tabla."
   ],
   "attachments":{
    
   },
   "metadata":{
    "datalore":{
     "node_id":"WsWTKwXTIFtl62qFXJq73v",
     "type":"MD",
     "hide_input_from_viewers":false,
     "hide_output_from_viewers":false
    }
   }
  },
  {
   "cell_type":"code",
   "source":[
    "prueba = pd.read_csv('resultados.csv', sep=',')\n",
    "\n",
    "prueba['datos_sueldo'] = prueba['datos_sueldo'].str.replace(',', '').astype(float)\n",
    "\n",
    "prueba"
   ],
   "execution_count":52,
   "outputs":[
    {
     "data":{
      "text\/html":[
       "<div>\n",
       "<style scoped>\n",
       "    .dataframe tbody tr th:only-of-type {\n",
       "        vertical-align: middle;\n",
       "    }\n",
       "\n",
       "    .dataframe tbody tr th {\n",
       "        vertical-align: top;\n",
       "    }\n",
       "\n",
       "    .dataframe thead th {\n",
       "        text-align: right;\n",
       "    }\n",
       "<\/style>\n",
       "<table border=\"1\" class=\"dataframe\">\n",
       "  <thead>\n",
       "    <tr style=\"text-align: right;\">\n",
       "      <th><\/th>\n",
       "      <th>Unnamed: 0<\/th>\n",
       "      <th>datos_pais<\/th>\n",
       "      <th>datos_sueldo<\/th>\n",
       "    <\/tr>\n",
       "  <\/thead>\n",
       "  <tbody>\n",
       "    <tr>\n",
       "      <th>0<\/th>\n",
       "      <td>0<\/td>\n",
       "      <td>Switzerland<\/td>\n",
       "      <td>6221.54<\/td>\n",
       "    <\/tr>\n",
       "    <tr>\n",
       "      <th>1<\/th>\n",
       "      <td>1<\/td>\n",
       "      <td>Luxembourg<\/td>\n",
       "      <td>4224.22<\/td>\n",
       "    <\/tr>\n",
       "    <tr>\n",
       "      <th>2<\/th>\n",
       "      <td>2<\/td>\n",
       "      <td>Singapore<\/td>\n",
       "      <td>4004.48<\/td>\n",
       "    <\/tr>\n",
       "    <tr>\n",
       "      <th>3<\/th>\n",
       "      <td>3<\/td>\n",
       "      <td>Australia<\/td>\n",
       "      <td>3639.57<\/td>\n",
       "    <\/tr>\n",
       "    <tr>\n",
       "      <th>4<\/th>\n",
       "      <td>4<\/td>\n",
       "      <td>United States<\/td>\n",
       "      <td>3592.23<\/td>\n",
       "    <\/tr>\n",
       "    <tr>\n",
       "      <th>...<\/th>\n",
       "      <td>...<\/td>\n",
       "      <td>...<\/td>\n",
       "      <td>...<\/td>\n",
       "    <\/tr>\n",
       "    <tr>\n",
       "      <th>105<\/th>\n",
       "      <td>105<\/td>\n",
       "      <td>Nepal<\/td>\n",
       "      <td>221.89<\/td>\n",
       "    <\/tr>\n",
       "    <tr>\n",
       "      <th>106<\/th>\n",
       "      <td>106<\/td>\n",
       "      <td>Pakistan<\/td>\n",
       "      <td>200.50<\/td>\n",
       "    <\/tr>\n",
       "    <tr>\n",
       "      <th>107<\/th>\n",
       "      <td>107<\/td>\n",
       "      <td>Ethiopia<\/td>\n",
       "      <td>199.51<\/td>\n",
       "    <\/tr>\n",
       "    <tr>\n",
       "      <th>108<\/th>\n",
       "      <td>108<\/td>\n",
       "      <td>Nigeria<\/td>\n",
       "      <td>182.70<\/td>\n",
       "    <\/tr>\n",
       "    <tr>\n",
       "      <th>109<\/th>\n",
       "      <td>109<\/td>\n",
       "      <td>Syria<\/td>\n",
       "      <td>73.12<\/td>\n",
       "    <\/tr>\n",
       "  <\/tbody>\n",
       "<\/table>\n",
       "<p>110 rows × 3 columns<\/p>\n",
       "<\/div>"
      ]
     },
     "metadata":{
      
     },
     "output_type":"display_data"
    }
   ],
   "metadata":{
    "datalore":{
     "node_id":"wc1WqvY8N5cHqsuoHmH7AN",
     "type":"CODE",
     "hide_input_from_viewers":false,
     "hide_output_from_viewers":false
    }
   }
  }
 ],
 "metadata":{
  "kernelspec":{
   "display_name":"Python",
   "language":"python",
   "name":"python"
  },
  "datalore":{
   "version":1,
   "computation_mode":"JUPYTER",
   "package_manager":"pip",
   "base_environment":"default",
   "packages":[
    
   ]
  }
 },
 "nbformat":4,
 "nbformat_minor":4
}